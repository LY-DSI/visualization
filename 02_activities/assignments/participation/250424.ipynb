{
 "cells": [
  {
   "cell_type": "markdown",
   "id": "15d4eaf0",
   "metadata": {},
   "source": [
    "250424"
   ]
  },
  {
   "cell_type": "markdown",
   "id": "a697b30b",
   "metadata": {},
   "source": [
    "Data types: \n",
    "items, attributes, links, positions, grids\n",
    "\n",
    "Data and Dataset types:\n",
    "Tables, networks & trees, fields, geometry, cluster sets, lists\n",
    "\n",
    "Dataset availability:\n",
    "static, dynamic\n",
    "\n",
    "Atribute types:\n",
    "categorical, ordered,\n",
    "\n",
    "Ordering direction:\n",
    "sequential, diverging, cyclic\n"
   ]
  },
  {
   "cell_type": "markdown",
   "id": "97b1182f",
   "metadata": {},
   "source": [
    "Action: Analyze, search, query"
   ]
  },
  {
   "cell_type": "markdown",
   "id": "fa6d63aa",
   "metadata": {},
   "source": [
    "NO code in this session."
   ]
  }
 ],
 "metadata": {
  "language_info": {
   "name": "python"
  }
 },
 "nbformat": 4,
 "nbformat_minor": 5
}
